{
 "cells": [
  {
   "cell_type": "markdown",
   "metadata": {},
   "source": [
    "   # Convolutional Neural Network"
   ]
  },
  {
   "cell_type": "markdown",
   "metadata": {},
   "source": [
    "Here we will put together a CNN using Keras. "
   ]
  },
  {
   "cell_type": "markdown",
   "metadata": {},
   "source": [
    "### Imports for building models"
   ]
  },
  {
   "cell_type": "code",
   "execution_count": 136,
   "metadata": {},
   "outputs": [],
   "source": [
    "from keras.models import Sequential\n",
    "from keras.layers import Conv2D\n",
    "from keras.layers import MaxPooling2D\n",
    "from keras.layers import Activation\n",
    "from keras.layers import Flatten\n",
    "from keras.layers import Dense\n",
    "from keras.layers import Dropout"
   ]
  },
  {
   "cell_type": "markdown",
   "metadata": {},
   "source": [
    "### Imports for data pre-processing and training "
   ]
  },
  {
   "cell_type": "code",
   "execution_count": 114,
   "metadata": {},
   "outputs": [],
   "source": [
    "import matplotlib\n",
    "matplotlib.use('Agg')\n",
    "%matplotlib inline\n",
    "\n",
    "from keras.preprocessing.image import ImageDataGenerator\n",
    "from keras.preprocessing.image import img_to_array\n",
    "from keras.optimizers import Adam\n",
    "from sklearn.model_selection import train_test_split\n",
    "#https://github.com/jrosebr1/imutils\n",
    "from keras.utils import to_categorical\n",
    "from keras.models import load_model\n",
    "from imutils import paths\n",
    "import imutils\n",
    "import matplotlib.pyplot as plt\n",
    "import numpy as np\n",
    "import random\n",
    "import cv2\n",
    "import os"
   ]
  },
  {
   "cell_type": "markdown",
   "metadata": {},
   "source": [
    "## LeNet architecture"
   ]
  },
  {
   "cell_type": "markdown",
   "metadata": {},
   "source": [
    "To start we will use a simple image classifier architecture called LetNet.\n",
    "\n",
    "Layers:\n",
    "\n",
    "Input -> Convolution_1 -> Pooling_1 -> Convolution_2 -> Pooling_2 -> Fully_Connected_Hidden_Layer -> Output_Softmax"
   ]
  },
  {
   "cell_type": "markdown",
   "metadata": {},
   "source": [
    "## Setting up LeNet CNN"
   ]
  },
  {
   "cell_type": "code",
   "execution_count": 115,
   "metadata": {},
   "outputs": [],
   "source": [
    "#Create a class for the model\n",
    "class LeNet:\n",
    "    @staticmethod\n",
    "    def build(width, height, depth, classes):\n",
    "        #Create instance of model\n",
    "        model = Sequential()\n",
    "        inputShape = (height, width, depth)\n",
    "        #Add layers\n",
    "        \n",
    "        #First convolutional layer w/ 20 convolutional filters which are 5x5 pixels\n",
    "        #Padding set to same so input size into the convolution is the same as output\n",
    "        #Activation can be set in convolutiuonal layer or added separately\n",
    "        model.add(Conv2D(filters=20, kernel_size=5, padding='same',\n",
    "                         input_shape=inputShape, activation='relu'))\n",
    "        #model.add(Activation('relu'))\n",
    "        #Calculate the max values of pixels in a window size of 2x2 pixels\n",
    "        model.add(MaxPooling2D(pool_size=(2,2), strides=(2,2)))\n",
    "        #2nd covolutional layer\n",
    "        model.add(Conv2D(filters=50, kernel_size=5, padding='same',\n",
    "                        activation='relu'))\n",
    "        model.add(MaxPooling2D(pool_size=(2,2), strides=(2,2)))\n",
    "        #Flatten layer serves as a connecter between convolution and densely connected layers\n",
    "        #Flattens into a single vector\n",
    "        model.add(Flatten())\n",
    "        #Dense layer contains 500 fully connected nodes\n",
    "        model.add(Dense(500, activation='relu'))\n",
    "        #Can add activation layer separately\n",
    "        #model.add(Activation('relu'))\n",
    "        #Output will be number of classes, softmax will yield probability of each class\n",
    "        model.add(Dense(classes, activation='softmax'))\n",
    "        \n",
    "        return model"
   ]
  },
  {
   "cell_type": "code",
   "execution_count": 116,
   "metadata": {},
   "outputs": [],
   "source": [
    "#Tuning layer parameters\n",
    "class LeNet2:\n",
    "    @staticmethod\n",
    "    def build(width, height, depth, classes):\n",
    "        #Create instance of model\n",
    "        model = Sequential()\n",
    "        inputShape = (height, width, depth)\n",
    "        #increase filters to 30\n",
    "        model.add(Conv2D(filters=30, kernel_size=5, padding='same',\n",
    "                         input_shape=inputShape, activation='relu'))\n",
    "        #increase pool size to 3\n",
    "        model.add(MaxPooling2D(pool_size=(3,3), strides=(2,2)))\n",
    "        #increase filters to 75\n",
    "        model.add(Conv2D(filters=75, kernel_size=5, padding='same',\n",
    "                        activation='relu'))\n",
    "        #increase pool size to 3\n",
    "        model.add(MaxPooling2D(pool_size=(3,3), strides=(2,2)))\n",
    "        model.add(Flatten())\n",
    "        model.add(Dense(500, activation='relu'))\n",
    "        model.add(Dense(classes, activation='softmax'))\n",
    "        \n",
    "        return model"
   ]
  },
  {
   "cell_type": "markdown",
   "metadata": {},
   "source": [
    "## AlexNet Architecture \n",
    "\n",
    "Input -> Convolution_1 -> Pooling_1 -> Convolution_2 -> Pooling_2 -> Convolution_3 -> Convolution_4 ->\n",
    "\n",
    "Pooling_3 -> Fully_Connected_Hidden_Layer_1 -> Dropout_Layer_1 -> Fully_Connected_Hidden_Layer_2 ->\n",
    "\n",
    "Dropout_Layer_2 -> Output_Softmax"
   ]
  },
  {
   "cell_type": "markdown",
   "metadata": {},
   "source": [
    "## AlexNet CNN"
   ]
  },
  {
   "cell_type": "code",
   "execution_count": 137,
   "metadata": {},
   "outputs": [],
   "source": [
    "class AlexNet:\n",
    "    #optimizer to use should be 'sgd'\n",
    "    @staticmethod\n",
    "    def build(width, height, classes):\n",
    "        model = Sequential()\n",
    "        #input shape is 227x227x3\n",
    "        inputShape = (height, width, depth)\n",
    "        model.add(Conv2D(filters=96, kernel_size=11, strides=4,\n",
    "                         input_shape=inputShape, activation='relu'))\n",
    "        model.add(MaxPooling2D(pool_size=(3,3), strides=(2,2)))\n",
    "        model.add(Conv2D(filters=256, kernel_size=5, strides=1,\n",
    "                         padding='same', activation='relu'))\n",
    "        model.add(MaxPooling2D(pool_size=(3,3), strides=(2,2)))\n",
    "        model.add(Conv2D(filters=384, kernel_size=3, strides=1,\n",
    "                         padding='same', activation='relu'))\n",
    "        model.add(Conv2D(filters=256, kernel_size=3, strides=1,\n",
    "                         padding='same', activation='relu'))\n",
    "        model.add(MaxPooling2D(pool_size=(3,3), strides=(2,2)))\n",
    "        model.add(Flatten())\n",
    "        model.add(Dense(4096, activation='relu'))\n",
    "        model.add(Dropout(0.5))\n",
    "        model.add(Dense(4096, activation='relu'))\n",
    "        model.add(Dropout(0.5))\n",
    "        model.add(Dense(classes, activation='softmax'))\n",
    "        \n",
    "        return model"
   ]
  },
  {
   "cell_type": "markdown",
   "metadata": {},
   "source": [
    "## Image Pre-processing"
   ]
  },
  {
   "cell_type": "code",
   "execution_count": 143,
   "metadata": {},
   "outputs": [],
   "source": [
    "def pre_process(width, height, path):\n",
    "    \"\"\"\n",
    "    Resize and rescale images stored in image folder.\n",
    "    \n",
    "    Return pre-processed data and labels for the classes based\n",
    "    on sub-directories in the image folder\n",
    "    \"\"\"\n",
    "    #containers for pre-processed image data and class labels\n",
    "    data = []\n",
    "    labels = []\n",
    "\n",
    "    #images directory contains 3 sub-directories: 'poison_ivy', 'poison_oak', 'poison_sumac'\n",
    "    #randomly get image paths and shuffle them\n",
    "    # current path 'C:\\\\Users\\\\jltsa\\\\Desktop\\\\Project_2\\\\images'\n",
    "    image_paths = sorted(list(paths.list_images(path)))\n",
    "    random.seed(42)\n",
    "    random.shuffle(image_paths)\n",
    "\n",
    "    #preprocess images to width x height pixels as required for LeNet\n",
    "    for image_path in image_paths:\n",
    "        image = cv2.imread(image_path)\n",
    "        image = cv2.resize(image, (width, height))\n",
    "        image = img_to_array(image)\n",
    "        data.append(image)\n",
    "    \n",
    "        #Extract class labels\n",
    "        label = image_path.split(os.path.sep)[-2]\n",
    "        if label == 'poison_ivy':\n",
    "            label = 0\n",
    "        elif label == 'poison_oak':\n",
    "            label = 1\n",
    "        else:\n",
    "            label = 2\n",
    "        labels.append(label)\n",
    "       \n",
    "    #Scal pixel intensities from 0 to 1\n",
    "    data = np.array(data, dtype='float') / 255.0\n",
    "    labels = np.array(labels)\n",
    "    \n",
    "    return data, labels"
   ]
  },
  {
   "cell_type": "code",
   "execution_count": 144,
   "metadata": {},
   "outputs": [],
   "source": [
    "data_alexnet, labels_alex_net = pre_process(227, 227, 'C:\\\\Users\\\\jltsa\\\\Desktop\\\\Project_2\\\\images')"
   ]
  },
  {
   "cell_type": "code",
   "execution_count": null,
   "metadata": {},
   "outputs": [],
   "source": []
  },
  {
   "cell_type": "markdown",
   "metadata": {},
   "source": [
    "## Training CNN"
   ]
  },
  {
   "cell_type": "code",
   "execution_count": 119,
   "metadata": {},
   "outputs": [],
   "source": [
    "#Initialize global training variables\n",
    "\n",
    "EPOCHS = 25\n",
    "#Learning rate\n",
    "LR = 1e-3\n",
    "#Batch Size\n",
    "BS = 35"
   ]
  },
  {
   "cell_type": "markdown",
   "metadata": {},
   "source": [
    "### Training and Test Data for LeNet"
   ]
  },
  {
   "cell_type": "code",
   "execution_count": 120,
   "metadata": {},
   "outputs": [],
   "source": [
    "#Split data into training and test sets\n",
    "X_train, X_test, y_train, y_test = train_test_split(data, labels, test_size=0.25, random_state=42)\n"
   ]
  },
  {
   "cell_type": "code",
   "execution_count": 121,
   "metadata": {},
   "outputs": [],
   "source": [
    "#One hot encoding\n",
    "y_train = to_categorical(y_train)\n",
    "y_test = to_categorical(y_test)"
   ]
  },
  {
   "cell_type": "code",
   "execution_count": 122,
   "metadata": {},
   "outputs": [],
   "source": [
    "#To increase the amount of training data, build an image generator using data augmentation\n",
    "aug_gen = ImageDataGenerator(rotation_range=30, width_shift_range=0.1,\n",
    "                            height_shift_range=0.1, shear_range=0.2,\n",
    "                            zoom_range=0.2, horizontal_flip=True, fill_mode='nearest')"
   ]
  },
  {
   "cell_type": "code",
   "execution_count": 123,
   "metadata": {},
   "outputs": [],
   "source": [
    "model = LeNet.build(width=28, height=28, depth=3, classes=3)\n",
    "opt = Adam(lr=LR, decay=LR / EPOCHS)\n",
    "\n",
    "model.compile(loss='categorical_crossentropy', optimizer=opt,\n",
    "             metrics=['accuracy'])"
   ]
  },
  {
   "cell_type": "code",
   "execution_count": 124,
   "metadata": {},
   "outputs": [
    {
     "name": "stdout",
     "output_type": "stream",
     "text": [
      "Epoch 1/25\n",
      "538/538 [==============================] - 9s 16ms/step - loss: 0.9269 - acc: 0.5415 - val_loss: 0.9063 - val_acc: 0.6222\n",
      "Epoch 2/25\n",
      "538/538 [==============================] - 7s 13ms/step - loss: 0.7198 - acc: 0.6734 - val_loss: 1.0650 - val_acc: 0.6111\n",
      "Epoch 3/25\n",
      "538/538 [==============================] - 7s 13ms/step - loss: 0.4814 - acc: 0.7997 - val_loss: 1.5150 - val_acc: 0.5889\n",
      "Epoch 4/25\n",
      "538/538 [==============================] - 7s 13ms/step - loss: 0.3150 - acc: 0.8767 - val_loss: 1.2858 - val_acc: 0.6722\n",
      "Epoch 5/25\n",
      "538/538 [==============================] - 7s 14ms/step - loss: 0.1893 - acc: 0.9309 - val_loss: 1.6913 - val_acc: 0.6389\n",
      "Epoch 6/25\n",
      "538/538 [==============================] - 7s 13ms/step - loss: 0.1477 - acc: 0.9470 - val_loss: 1.5972 - val_acc: 0.6611\n",
      "Epoch 7/25\n",
      "538/538 [==============================] - 7s 14ms/step - loss: 0.1132 - acc: 0.9609 - val_loss: 1.9291 - val_acc: 0.6111\n",
      "Epoch 8/25\n",
      "538/538 [==============================] - 7s 14ms/step - loss: 0.0808 - acc: 0.9733 - val_loss: 2.1209 - val_acc: 0.6389\n",
      "Epoch 9/25\n",
      "538/538 [==============================] - 7s 14ms/step - loss: 0.0795 - acc: 0.9731 - val_loss: 1.9715 - val_acc: 0.6389\n",
      "Epoch 10/25\n",
      "538/538 [==============================] - 8s 15ms/step - loss: 0.0715 - acc: 0.9748 - val_loss: 2.2411 - val_acc: 0.6167\n",
      "Epoch 11/25\n",
      "538/538 [==============================] - 8s 15ms/step - loss: 0.0574 - acc: 0.9797 - val_loss: 2.4449 - val_acc: 0.6389\n",
      "Epoch 12/25\n",
      "538/538 [==============================] - 8s 15ms/step - loss: 0.0587 - acc: 0.9806 - val_loss: 2.1887 - val_acc: 0.6500\n",
      "Epoch 13/25\n",
      "538/538 [==============================] - 8s 14ms/step - loss: 0.0473 - acc: 0.9853 - val_loss: 2.3073 - val_acc: 0.6667\n",
      "Epoch 14/25\n",
      "538/538 [==============================] - 8s 14ms/step - loss: 0.0420 - acc: 0.9856 - val_loss: 2.2403 - val_acc: 0.6667\n",
      "Epoch 15/25\n",
      "538/538 [==============================] - 9s 16ms/step - loss: 0.0511 - acc: 0.9828 - val_loss: 2.5292 - val_acc: 0.6222\n",
      "Epoch 16/25\n",
      "538/538 [==============================] - 7s 14ms/step - loss: 0.0421 - acc: 0.9845 - val_loss: 2.4871 - val_acc: 0.6333\n",
      "Epoch 17/25\n",
      "538/538 [==============================] - 7s 14ms/step - loss: 0.0400 - acc: 0.9866 - val_loss: 2.3773 - val_acc: 0.6778\n",
      "Epoch 18/25\n",
      "538/538 [==============================] - 7s 13ms/step - loss: 0.0350 - acc: 0.9882 - val_loss: 2.4486 - val_acc: 0.6167\n",
      "Epoch 19/25\n",
      "538/538 [==============================] - 7s 14ms/step - loss: 0.0308 - acc: 0.9882 - val_loss: 2.5643 - val_acc: 0.7111\n",
      "Epoch 20/25\n",
      "538/538 [==============================] - 7s 13ms/step - loss: 0.0317 - acc: 0.9878 - val_loss: 2.2393 - val_acc: 0.6667\n",
      "Epoch 21/25\n",
      "538/538 [==============================] - 7s 14ms/step - loss: 0.0349 - acc: 0.9870 - val_loss: 2.6405 - val_acc: 0.6722\n",
      "Epoch 22/25\n",
      "538/538 [==============================] - 7s 14ms/step - loss: 0.0266 - acc: 0.9905 - val_loss: 2.4538 - val_acc: 0.6556\n",
      "Epoch 23/25\n",
      "538/538 [==============================] - 8s 15ms/step - loss: 0.0461 - acc: 0.9841 - val_loss: 2.6582 - val_acc: 0.6222\n",
      "Epoch 24/25\n",
      "538/538 [==============================] - 7s 14ms/step - loss: 0.0287 - acc: 0.9886 - val_loss: 2.6480 - val_acc: 0.6500\n",
      "Epoch 25/25\n",
      "538/538 [==============================] - 7s 14ms/step - loss: 0.0338 - acc: 0.9877 - val_loss: 2.5383 - val_acc: 0.6611\n"
     ]
    }
   ],
   "source": [
    "lnet = model.fit_generator(aug_gen.flow(X_train, y_train, batch_size=BS),\n",
    "                   validation_data=(X_test, y_test), steps_per_epoch=len(X_train // BS),\n",
    "                   epochs=EPOCHS, verbose=1)"
   ]
  },
  {
   "cell_type": "code",
   "execution_count": 129,
   "metadata": {},
   "outputs": [],
   "source": [
    "#Initialize model\n",
    "model = LeNet2.build(width=28, height=28, depth=3, classes=3)\n",
    "opt = Adam(lr=LR, decay=LR / EPOCHS)\n",
    "\n",
    "#if model has 2 classes use loss='binary_crossentropy'\n",
    "model.compile(loss='categorical_crossentropy', optimizer=opt,\n",
    "             metrics=['accuracy'])"
   ]
  },
  {
   "cell_type": "code",
   "execution_count": 130,
   "metadata": {},
   "outputs": [
    {
     "name": "stdout",
     "output_type": "stream",
     "text": [
      "Epoch 1/25\n",
      "538/538 [==============================] - 8s 16ms/step - loss: 0.9325 - acc: 0.5349 - val_loss: 0.9084 - val_acc: 0.5556\n",
      "Epoch 2/25\n",
      "538/538 [==============================] - 7s 13ms/step - loss: 0.7173 - acc: 0.6708 - val_loss: 1.1252 - val_acc: 0.5444\n",
      "Epoch 3/25\n",
      "538/538 [==============================] - ETA: 0s - loss: 0.4786 - acc: 0.793 - 7s 14ms/step - loss: 0.4773 - acc: 0.7937 - val_loss: 1.4747 - val_acc: 0.5722\n",
      "Epoch 4/25\n",
      "538/538 [==============================] - 7s 14ms/step - loss: 0.2968 - acc: 0.8837 - val_loss: 1.3226 - val_acc: 0.6722\n",
      "Epoch 5/25\n",
      "538/538 [==============================] - 7s 13ms/step - loss: 0.1806 - acc: 0.9335 - val_loss: 1.7712 - val_acc: 0.6167\n",
      "Epoch 6/25\n",
      "538/538 [==============================] - 7s 13ms/step - loss: 0.1426 - acc: 0.9498 - val_loss: 1.7708 - val_acc: 0.6167\n",
      "Epoch 7/25\n",
      "538/538 [==============================] - 8s 14ms/step - loss: 0.0955 - acc: 0.9666 - val_loss: 1.9737 - val_acc: 0.6000\n",
      "Epoch 8/25\n",
      "538/538 [==============================] - 8s 14ms/step - loss: 0.0951 - acc: 0.9687 - val_loss: 1.8405 - val_acc: 0.6500\n",
      "Epoch 9/25\n",
      "538/538 [==============================] - 7s 13ms/step - loss: 0.0731 - acc: 0.9752 - val_loss: 2.0728 - val_acc: 0.6000\n",
      "Epoch 10/25\n",
      "538/538 [==============================] - 7s 14ms/step - loss: 0.0668 - acc: 0.9782 - val_loss: 2.1595 - val_acc: 0.6389\n",
      "Epoch 11/25\n",
      "538/538 [==============================] - 8s 14ms/step - loss: 0.0519 - acc: 0.9824 - val_loss: 2.2703 - val_acc: 0.6500\n",
      "Epoch 12/25\n",
      "538/538 [==============================] - 8s 15ms/step - loss: 0.0489 - acc: 0.9837 - val_loss: 2.2940 - val_acc: 0.6611\n",
      "Epoch 13/25\n",
      "538/538 [==============================] - 7s 14ms/step - loss: 0.0546 - acc: 0.9804 - val_loss: 2.3623 - val_acc: 0.6444\n",
      "Epoch 14/25\n",
      "538/538 [==============================] - 7s 14ms/step - loss: 0.0507 - acc: 0.9826 - val_loss: 2.2942 - val_acc: 0.6278\n",
      "Epoch 15/25\n",
      "538/538 [==============================] - 8s 15ms/step - loss: 0.0346 - acc: 0.9879 - val_loss: 2.1918 - val_acc: 0.6611\n",
      "Epoch 16/25\n",
      "538/538 [==============================] - 7s 14ms/step - loss: 0.0386 - acc: 0.9851 - val_loss: 2.5311 - val_acc: 0.6167\n",
      "Epoch 17/25\n",
      "538/538 [==============================] - 7s 14ms/step - loss: 0.0410 - acc: 0.9846 - val_loss: 2.3882 - val_acc: 0.6611\n",
      "Epoch 18/25\n",
      "538/538 [==============================] - 8s 14ms/step - loss: 0.0322 - acc: 0.9883 - val_loss: 2.0338 - val_acc: 0.7000\n",
      "Epoch 19/25\n",
      "538/538 [==============================] - 7s 13ms/step - loss: 0.0299 - acc: 0.9888 - val_loss: 2.3705 - val_acc: 0.6500\n",
      "Epoch 20/25\n",
      "538/538 [==============================] - 8s 14ms/step - loss: 0.0294 - acc: 0.9890 - val_loss: 2.2105 - val_acc: 0.6500\n",
      "Epoch 21/25\n",
      "538/538 [==============================] - 7s 13ms/step - loss: 0.0331 - acc: 0.9888 - val_loss: 2.1417 - val_acc: 0.6889\n",
      "Epoch 22/25\n",
      "538/538 [==============================] - 7s 13ms/step - loss: 0.0276 - acc: 0.9905 - val_loss: 2.3878 - val_acc: 0.6778\n",
      "Epoch 23/25\n",
      "538/538 [==============================] - 7s 13ms/step - loss: 0.0310 - acc: 0.9888 - val_loss: 2.1404 - val_acc: 0.6722\n",
      "Epoch 24/25\n",
      "538/538 [==============================] - 8s 15ms/step - loss: 0.0228 - acc: 0.9904 - val_loss: 2.3251 - val_acc: 0.6556\n",
      "Epoch 25/25\n",
      "538/538 [==============================] - 7s 14ms/step - loss: 0.0197 - acc: 0.9917 - val_loss: 2.4447 - val_acc: 0.6778\n"
     ]
    }
   ],
   "source": [
    "#train model\n",
    "lnet_2 = model.fit_generator(aug_gen.flow(X_train, y_train, batch_size=BS),\n",
    "                   validation_data=(X_test, y_test), steps_per_epoch=len(X_train // BS),\n",
    "                   epochs=EPOCHS, verbose=1)"
   ]
  },
  {
   "cell_type": "code",
   "execution_count": 131,
   "metadata": {},
   "outputs": [],
   "source": [
    "#Save model\n",
    "model.save('models\\\\model_lenet_2.h5')"
   ]
  },
  {
   "cell_type": "code",
   "execution_count": 40,
   "metadata": {},
   "outputs": [],
   "source": [
    "#Load model\n",
    "#model = load_model('poison_plant_model.h5')"
   ]
  },
  {
   "cell_type": "markdown",
   "metadata": {},
   "source": [
    "## Evaluate Models"
   ]
  },
  {
   "cell_type": "code",
   "execution_count": 140,
   "metadata": {},
   "outputs": [],
   "source": [
    "def plot_acc_loss(epochs, model, save=False, path=None, save_as=None):\n",
    "    plt.style.use('ggplot')\n",
    "    plt.figure()\n",
    "    plt.plot(np.arange(0,epochs), model.history['loss'], label='Train_loss')\n",
    "    plt.plot(np.arange(0,epochs), model.history['val_loss'], label='Val_loss')\n",
    "    plt.plot(np.arange(0,epochs), model.history['acc'], label='Train_acc')\n",
    "    plt.plot(np.arange(0,epochs), model.history['val_acc'], label='Val_acc')\n",
    "    plt.title('Training Loss and Accuracy LeNet1')\n",
    "    plt.xlabel('Epoch')\n",
    "    plt.ylabel('Loss/Acc')\n",
    "    plt.legend(loc='upper left')\n",
    "    \n",
    "    if save == True:\n",
    "        plt.savefig(str(path)+'\\\\' + str(save_as) + '.png')"
   ]
  },
  {
   "cell_type": "code",
   "execution_count": 141,
   "metadata": {},
   "outputs": [
    {
     "data": {
      "image/png": "[encoded data removed]",
      "text/plain": [
       "<Figure size 432x288 with 1 Axes>"
      ]
     },
     "metadata": {},
     "output_type": "display_data"
    }
   ],
   "source": [
    "plot_acc_loss(EPOCHS, lnet, save=True, path='plots', save_as='lnet_1')"
   ]
  },
  {
   "cell_type": "markdown",
   "metadata": {},
   "source": [
    "Validation Loss keeps increasing.  The model is over fitting.  Maybe need to add drop out layer? get better pictures, more pics of sumac."
   ]
  },
  {
   "cell_type": "code",
   "execution_count": 142,
   "metadata": {
    "scrolled": true
   },
   "outputs": [
    {
     "data": {
      "image/png": "[encoded data removed]",
      "text/plain": [
       "<Figure size 432x288 with 1 Axes>"
      ]
     },
     "metadata": {},
     "output_type": "display_data"
    }
   ],
   "source": [
    "plot_acc_loss(EPOCHS, lnet_2, save=False)"
   ]
  },
  {
   "cell_type": "code",
   "execution_count": 134,
   "metadata": {},
   "outputs": [
    {
     "name": "stdout",
     "output_type": "stream",
     "text": [
      "_________________________________________________________________\n",
      "Layer (type)                 Output Shape              Param #   \n",
      "=================================================================\n",
      "conv2d_17 (Conv2D)           (None, 28, 28, 20)        1520      \n",
      "_________________________________________________________________\n",
      "max_pooling2d_17 (MaxPooling (None, 14, 14, 20)        0         \n",
      "_________________________________________________________________\n",
      "conv2d_18 (Conv2D)           (None, 14, 14, 50)        25050     \n",
      "_________________________________________________________________\n",
      "max_pooling2d_18 (MaxPooling (None, 7, 7, 50)          0         \n",
      "_________________________________________________________________\n",
      "flatten_9 (Flatten)          (None, 2450)              0         \n",
      "_________________________________________________________________\n",
      "dense_17 (Dense)             (None, 500)               1225500   \n",
      "_________________________________________________________________\n",
      "dense_18 (Dense)             (None, 3)                 1503      \n",
      "=================================================================\n",
      "Total params: 1,253,573\n",
      "Trainable params: 1,253,573\n",
      "Non-trainable params: 0\n",
      "_________________________________________________________________\n"
     ]
    }
   ],
   "source": [
    "model2 = load_model('models\\\\model_lenet_1.h5')\n",
    "model2.summary()"
   ]
  },
  {
   "cell_type": "code",
   "execution_count": 133,
   "metadata": {},
   "outputs": [
    {
     "name": "stdout",
     "output_type": "stream",
     "text": [
      "_________________________________________________________________\n",
      "Layer (type)                 Output Shape              Param #   \n",
      "=================================================================\n",
      "conv2d_19 (Conv2D)           (None, 28, 28, 30)        2280      \n",
      "_________________________________________________________________\n",
      "max_pooling2d_19 (MaxPooling (None, 13, 13, 30)        0         \n",
      "_________________________________________________________________\n",
      "conv2d_20 (Conv2D)           (None, 13, 13, 75)        56325     \n",
      "_________________________________________________________________\n",
      "max_pooling2d_20 (MaxPooling (None, 6, 6, 75)          0         \n",
      "_________________________________________________________________\n",
      "flatten_10 (Flatten)         (None, 2700)              0         \n",
      "_________________________________________________________________\n",
      "dense_19 (Dense)             (None, 500)               1350500   \n",
      "_________________________________________________________________\n",
      "dense_20 (Dense)             (None, 3)                 1503      \n",
      "=================================================================\n",
      "Total params: 1,410,608\n",
      "Trainable params: 1,410,608\n",
      "Non-trainable params: 0\n",
      "_________________________________________________________________\n"
     ]
    }
   ],
   "source": [
    "model.summary()"
   ]
  },
  {
   "cell_type": "code",
   "execution_count": null,
   "metadata": {},
   "outputs": [],
   "source": []
  },
  {
   "cell_type": "code",
   "execution_count": null,
   "metadata": {},
   "outputs": [],
   "source": []
  }
 ],
 "metadata": {
  "kernelspec": {
   "display_name": "Python 3",
   "language": "python",
   "name": "python3"
  },
  "language_info": {
   "codemirror_mode": {
    "name": "ipython",
    "version": 3
   },
   "file_extension": ".py",
   "mimetype": "text/x-python",
   "name": "python",
   "nbconvert_exporter": "python",
   "pygments_lexer": "ipython3",
   "version": "3.7.1"
  }
 },
 "nbformat": 4,
 "nbformat_minor": 2
}
