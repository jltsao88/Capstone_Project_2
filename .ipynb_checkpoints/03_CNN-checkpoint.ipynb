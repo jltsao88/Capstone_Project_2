{
 "cells": [
  {
   "cell_type": "markdown",
   "metadata": {},
   "source": [
    "   # Convolutional Neural Network"
   ]
  },
  {
   "cell_type": "markdown",
   "metadata": {},
   "source": [
    "Here we will put together a CNN using Keras. "
   ]
  },
  {
   "cell_type": "markdown",
   "metadata": {},
   "source": [
    "### Imports for building models"
   ]
  },
  {
   "cell_type": "code",
   "execution_count": 19,
   "metadata": {},
   "outputs": [],
   "source": [
    "from keras.models import Sequential\n",
    "from keras.layers import Conv2D\n",
    "from keras.layers import MaxPooling2D\n",
    "from keras.layers import Activation\n",
    "from keras.layers import Flatten\n",
    "from keras.layers import Dense"
   ]
  },
  {
   "cell_type": "markdown",
   "metadata": {},
   "source": [
    "### Imports for data pre-processing and training "
   ]
  },
  {
   "cell_type": "code",
   "execution_count": 86,
   "metadata": {},
   "outputs": [],
   "source": [
    "import matplotlib\n",
    "matplotlib.use('Agg')\n",
    "%matplotlib inline\n",
    "\n",
    "from keras.preprocessing.image import ImageDataGenerator\n",
    "from keras.preprocessing.image import img_to_array\n",
    "from keras.optimizers import Adam\n",
    "from sklearn.model_selection import train_test_split\n",
    "#https://github.com/jrosebr1/imutils\n",
    "from keras.utils import to_categorical\n",
    "from keras.models import load_model\n",
    "from imutils import paths\n",
    "import imutils\n",
    "import matplotlib.pyplot as plt\n",
    "import numpy as np\n",
    "import random\n",
    "import cv2\n",
    "import os"
   ]
  },
  {
   "cell_type": "markdown",
   "metadata": {},
   "source": [
    "## LeNet architecture"
   ]
  },
  {
   "cell_type": "markdown",
   "metadata": {},
   "source": [
    "To start we will use a simple image classifier architecture called LetNet.\n",
    "\n",
    "Layers:\n",
    "\n",
    "Input -> Convolution_1 -> Pooling_1 -> Convolution_2 -> Pooling_2 -> Fully_Connected_Hidden_Layer -> Output_Softmax"
   ]
  },
  {
   "cell_type": "markdown",
   "metadata": {},
   "source": [
    "## Setting up LeNet CNN"
   ]
  },
  {
   "cell_type": "code",
   "execution_count": 106,
   "metadata": {},
   "outputs": [],
   "source": [
    "#Create a class for the model\n",
    "class LeNet:\n",
    "    @staticmethod\n",
    "    def build(width, height, depth, classes):\n",
    "        #Create instance of model\n",
    "        model = Sequential()\n",
    "        inputShape = (height, width, depth)\n",
    "        #Add layers\n",
    "        \n",
    "        #First convolutional layer w/ 20 convolutional filters which are 5x5 pixels\n",
    "        #Padding set to same so input size into the convolution is the same as output\n",
    "        #Activation can be set in convolutiuonal layer or added separately\n",
    "        model.add(Conv2D(filters=20, kernel_size=5, padding='same',\n",
    "                         input_shape=inputShape, activation='relu'))\n",
    "        #model.add(Activation('relu'))\n",
    "        #Calculate the max values of pixels in a window size of 2x2 pixels\n",
    "        model.add(MaxPooling2D(pool_size=(2,2), strides=(2,2)))\n",
    "        #2nd covolutional layer\n",
    "        model.add(Conv2D(filters=50, kernel_size=5, padding='same',\n",
    "                        activation='relu'))\n",
    "        model.add(MaxPooling2D(pool_size=(2,2), strides=(2,2)))\n",
    "        #Flatten layer serves as a connecter between convolution and densely connected layers\n",
    "        #Flattens into a single vector\n",
    "        model.add(Flatten())\n",
    "        #Dense layer contains 500 fully connected nodes\n",
    "        model.add(Dense(500, activation='relu'))\n",
    "        #Can add activation layer separately\n",
    "        #model.add(Activation('relu'))\n",
    "        #Output will be number of classes, softmax will yield probability of each class\n",
    "        model.add(Dense(classes, activation='softmax'))\n",
    "        \n",
    "        return model"
   ]
  },
  {
   "cell_type": "code",
   "execution_count": 60,
   "metadata": {},
   "outputs": [],
   "source": [
    "#Tuning layer parameters\n",
    "class LeNet2:\n",
    "    @staticmethod\n",
    "    def build(width, height, depth, classes):\n",
    "        #Create instance of model\n",
    "        model = Sequential()\n",
    "        inputShape = (height, width, depth)\n",
    "        #increase filters to 30\n",
    "        model.add(Conv2D(filters=30, kernel_size=5, padding='same',\n",
    "                         input_shape=inputShape, activation='relu'))\n",
    "        #increase pool size to 3\n",
    "        model.add(MaxPooling2D(pool_size=(3,3), strides=(2,2)))\n",
    "        #increase filters to 75\n",
    "        model.add(Conv2D(filters=75, kernel_size=5, padding='same',\n",
    "                        activation='relu'))\n",
    "        #increase pool size to 3\n",
    "        model.add(MaxPooling2D(pool_size=(3,3), strides=(2,2)))\n",
    "        model.add(Flatten())\n",
    "        model.add(Dense(500, activation='relu'))\n",
    "        model.add(Dense(classes, activation='softmax'))\n",
    "        \n",
    "        return model"
   ]
  },
  {
   "cell_type": "markdown",
   "metadata": {},
   "source": [
    "## Image Pre-processing"
   ]
  },
  {
   "cell_type": "code",
   "execution_count": 95,
   "metadata": {},
   "outputs": [],
   "source": [
    "#containers for pre-processed image data and class labels\n",
    "data = []\n",
    "labels = []\n",
    "\n",
    "#images directory contains 3 sub-directories: 'poison_ivy', 'poison_oak', 'poison_sumac'\n",
    "#randomly get image paths and shuffle them\n",
    "image_paths = sorted(list(paths.list_images('C:\\\\Users\\\\jltsa\\\\Desktop\\\\Project_2\\\\images')))\n",
    "random.seed(42)\n",
    "random.shuffle(image_paths)\n",
    "\n",
    "#preprocess images to 28x28 pixels as required for LeNet\n",
    "for image_path in image_paths:\n",
    "    image = cv2.imread(image_path)\n",
    "    image = cv2.resize(image, (28, 28))\n",
    "    image = img_to_array(image)\n",
    "    data.append(image)\n",
    "    \n",
    "    #Extract class labels\n",
    "    label = image_path.split(os.path.sep)[-2]\n",
    "    if label == 'poison_ivy':\n",
    "        label = 0\n",
    "    elif label == 'poison_oak':\n",
    "        label = 1\n",
    "    else:\n",
    "        label = 2\n",
    "    labels.append(label)"
   ]
  },
  {
   "cell_type": "code",
   "execution_count": 96,
   "metadata": {},
   "outputs": [],
   "source": [
    "#Scaling Images\n",
    "\n",
    "#Scal pixel intensities from 0 to 1\n",
    "data = np.array(data, dtype='float') / 255.0\n",
    "labels = np.array(labels)"
   ]
  },
  {
   "cell_type": "markdown",
   "metadata": {},
   "source": [
    "## Training CNN"
   ]
  },
  {
   "cell_type": "code",
   "execution_count": 97,
   "metadata": {},
   "outputs": [],
   "source": [
    "#Initialize global training variables\n",
    "\n",
    "EPOCHS = 25\n",
    "#Learning rate\n",
    "LR = 1e-3\n",
    "#Batch Size\n",
    "BS = 35"
   ]
  },
  {
   "cell_type": "code",
   "execution_count": 98,
   "metadata": {},
   "outputs": [],
   "source": [
    "#Split data into training and test sets\n",
    "X_train, X_test, y_train, y_test = train_test_split(data, labels, test_size=0.25, random_state=42)\n"
   ]
  },
  {
   "cell_type": "code",
   "execution_count": 99,
   "metadata": {},
   "outputs": [],
   "source": [
    "#One hot encoding\n",
    "y_train = to_categorical(y_train)\n",
    "y_test = to_categorical(y_test)"
   ]
  },
  {
   "cell_type": "code",
   "execution_count": 100,
   "metadata": {},
   "outputs": [],
   "source": [
    "#To increase the amount of training data, build an image generator using data augmentation\n",
    "aug_gen = ImageDataGenerator(rotation_range=30, width_shift_range=0.1,\n",
    "                            height_shift_range=0.1, shear_range=0.2,\n",
    "                            zoom_range=0.2, horizontal_flip=True, fill_mode='nearest')"
   ]
  },
  {
   "cell_type": "code",
   "execution_count": 107,
   "metadata": {},
   "outputs": [],
   "source": [
    "model = LeNet.build(width=28, height=28, depth=3, classes=3)\n",
    "opt = Adam(lr=LR, decay=LR / EPOCHS)\n",
    "\n",
    "model.compile(loss='categorical_crossentropy', optimizer=opt,\n",
    "             metrics=['accuracy'])"
   ]
  },
  {
   "cell_type": "code",
   "execution_count": 108,
   "metadata": {},
   "outputs": [
    {
     "name": "stdout",
     "output_type": "stream",
     "text": [
      "Epoch 1/25\n",
      "538/538 [==============================] - 8s 15ms/step - loss: 0.8920 - acc: 0.5728 - val_loss: 0.9462 - val_acc: 0.5500\n",
      "Epoch 2/25\n",
      "538/538 [==============================] - 7s 14ms/step - loss: 0.6618 - acc: 0.7080 - val_loss: 1.2049 - val_acc: 0.5667\n",
      "Epoch 3/25\n",
      "538/538 [==============================] - 7s 13ms/step - loss: 0.4235 - acc: 0.8238 - val_loss: 1.2175 - val_acc: 0.6056\n",
      "Epoch 4/25\n",
      "538/538 [==============================] - 7s 14ms/step - loss: 0.2621 - acc: 0.8966 - val_loss: 1.3507 - val_acc: 0.6778\n",
      "Epoch 5/25\n",
      "538/538 [==============================] - 7s 14ms/step - loss: 0.1795 - acc: 0.9346 - val_loss: 1.5341 - val_acc: 0.6611\n",
      "Epoch 6/25\n",
      "538/538 [==============================] - 8s 14ms/step - loss: 0.1087 - acc: 0.9631 - val_loss: 1.8838 - val_acc: 0.6556\n",
      "Epoch 7/25\n",
      "538/538 [==============================] - 8s 15ms/step - loss: 0.0963 - acc: 0.9653 - val_loss: 1.9931 - val_acc: 0.6278\n",
      "Epoch 8/25\n",
      "538/538 [==============================] - 8s 15ms/step - loss: 0.0832 - acc: 0.9725 - val_loss: 1.8105 - val_acc: 0.6500\n",
      "Epoch 9/25\n",
      "538/538 [==============================] - 7s 13ms/step - loss: 0.0773 - acc: 0.9761 - val_loss: 1.8458 - val_acc: 0.6500\n",
      "Epoch 10/25\n",
      "538/538 [==============================] - 7s 14ms/step - loss: 0.0576 - acc: 0.9815 - val_loss: 2.0620 - val_acc: 0.6556\n",
      "Epoch 11/25\n",
      "538/538 [==============================] - 8s 14ms/step - loss: 0.0576 - acc: 0.9814 - val_loss: 2.1217 - val_acc: 0.6556\n",
      "Epoch 12/25\n",
      "538/538 [==============================] - 8s 14ms/step - loss: 0.0454 - acc: 0.9841 - val_loss: 2.1197 - val_acc: 0.6778\n",
      "Epoch 13/25\n",
      "538/538 [==============================] - 8s 15ms/step - loss: 0.0496 - acc: 0.9829 - val_loss: 1.8499 - val_acc: 0.6722\n",
      "Epoch 14/25\n",
      "538/538 [==============================] - 9s 16ms/step - loss: 0.0425 - acc: 0.9856 - val_loss: 2.1680 - val_acc: 0.6556\n",
      "Epoch 15/25\n",
      "538/538 [==============================] - 9s 17ms/step - loss: 0.0463 - acc: 0.9837 - val_loss: 2.1152 - val_acc: 0.6500\n",
      "Epoch 16/25\n",
      "538/538 [==============================] - 8s 16ms/step - loss: 0.0395 - acc: 0.9864 - val_loss: 2.1923 - val_acc: 0.6667\n",
      "Epoch 17/25\n",
      "538/538 [==============================] - 7s 13ms/step - loss: 0.0285 - acc: 0.9896 - val_loss: 2.3630 - val_acc: 0.6278\n",
      "Epoch 18/25\n",
      "538/538 [==============================] - 8s 14ms/step - loss: 0.0331 - acc: 0.9882 - val_loss: 2.5541 - val_acc: 0.6000\n",
      "Epoch 19/25\n",
      "538/538 [==============================] - 7s 14ms/step - loss: 0.0395 - acc: 0.9858 - val_loss: 2.0537 - val_acc: 0.6556\n",
      "Epoch 20/25\n",
      "538/538 [==============================] - 8s 15ms/step - loss: 0.0305 - acc: 0.9892 - val_loss: 2.5199 - val_acc: 0.6000\n",
      "Epoch 21/25\n",
      "538/538 [==============================] - 7s 14ms/step - loss: 0.0368 - acc: 0.9871 - val_loss: 2.2971 - val_acc: 0.6389\n",
      "Epoch 22/25\n",
      "538/538 [==============================] - 7s 13ms/step - loss: 0.0295 - acc: 0.9889 - val_loss: 2.2759 - val_acc: 0.6444\n",
      "Epoch 23/25\n",
      "538/538 [==============================] - 7s 14ms/step - loss: 0.0316 - acc: 0.9885 - val_loss: 2.6586 - val_acc: 0.6556\n",
      "Epoch 24/25\n",
      "538/538 [==============================] - 7s 14ms/step - loss: 0.0191 - acc: 0.9930 - val_loss: 2.5460 - val_acc: 0.6222\n",
      "Epoch 25/25\n",
      "538/538 [==============================] - 8s 14ms/step - loss: 0.0236 - acc: 0.9904 - val_loss: 2.4791 - val_acc: 0.6778\n"
     ]
    }
   ],
   "source": [
    "lnet = model.fit_generator(aug_gen.flow(X_train, y_train, batch_size=BS),\n",
    "                   validation_data=(X_test, y_test), steps_per_epoch=len(X_train // BS),\n",
    "                   epochs=EPOCHS, verbose=1)"
   ]
  },
  {
   "cell_type": "code",
   "execution_count": 101,
   "metadata": {},
   "outputs": [],
   "source": [
    "#Initialize model\n",
    "model = LeNet2.build(width=28, height=28, depth=3, classes=3)\n",
    "opt = Adam(lr=LR, decay=LR / EPOCHS)\n",
    "\n",
    "#if model has 2 classes use loss='binary_crossentropy'\n",
    "model.compile(loss='categorical_crossentropy', optimizer=opt,\n",
    "             metrics=['accuracy'])"
   ]
  },
  {
   "cell_type": "code",
   "execution_count": 102,
   "metadata": {},
   "outputs": [
    {
     "name": "stdout",
     "output_type": "stream",
     "text": [
      "Epoch 1/25\n",
      "538/538 [==============================] - 9s 16ms/step - loss: 0.8910 - acc: 0.5674 - val_loss: 1.1505 - val_acc: 0.5167\n",
      "Epoch 2/25\n",
      "538/538 [==============================] - 7s 14ms/step - loss: 0.6433 - acc: 0.7112 - val_loss: 1.2989 - val_acc: 0.5111\n",
      "Epoch 3/25\n",
      "538/538 [==============================] - 7s 14ms/step - loss: 0.4095 - acc: 0.8350 - val_loss: 1.4731 - val_acc: 0.5778\n",
      "Epoch 4/25\n",
      "538/538 [==============================] - 8s 14ms/step - loss: 0.2594 - acc: 0.8984 - val_loss: 1.6275 - val_acc: 0.6444\n",
      "Epoch 5/25\n",
      "538/538 [==============================] - 7s 14ms/step - loss: 0.1745 - acc: 0.9365 - val_loss: 1.8138 - val_acc: 0.6278\n",
      "Epoch 6/25\n",
      "538/538 [==============================] - 7s 14ms/step - loss: 0.1145 - acc: 0.9600 - val_loss: 1.9603 - val_acc: 0.6556\n",
      "Epoch 7/25\n",
      "538/538 [==============================] - 7s 13ms/step - loss: 0.0993 - acc: 0.9647 - val_loss: 1.9733 - val_acc: 0.6000\n",
      "Epoch 8/25\n",
      "538/538 [==============================] - ETA: 0s - loss: 0.0838 - acc: 0.970 - 7s 14ms/step - loss: 0.0839 - acc: 0.9705 - val_loss: 1.8718 - val_acc: 0.6667\n",
      "Epoch 9/25\n",
      "538/538 [==============================] - 8s 14ms/step - loss: 0.0679 - acc: 0.9773 - val_loss: 2.0306 - val_acc: 0.6389\n",
      "Epoch 10/25\n",
      "538/538 [==============================] - 7s 14ms/step - loss: 0.0610 - acc: 0.9790 - val_loss: 2.0291 - val_acc: 0.6778\n",
      "Epoch 11/25\n",
      "538/538 [==============================] - 7s 14ms/step - loss: 0.0662 - acc: 0.9776 - val_loss: 1.8964 - val_acc: 0.6500\n",
      "Epoch 12/25\n",
      "538/538 [==============================] - 8s 14ms/step - loss: 0.0456 - acc: 0.9850 - val_loss: 2.0792 - val_acc: 0.6833\n",
      "Epoch 13/25\n",
      "538/538 [==============================] - 7s 14ms/step - loss: 0.0344 - acc: 0.9878 - val_loss: 2.0814 - val_acc: 0.6944\n",
      "Epoch 14/25\n",
      "538/538 [==============================] - 8s 14ms/step - loss: 0.0444 - acc: 0.9838 - val_loss: 2.3448 - val_acc: 0.6444\n",
      "Epoch 15/25\n",
      "538/538 [==============================] - 8s 14ms/step - loss: 0.0397 - acc: 0.9851 - val_loss: 2.5724 - val_acc: 0.6611\n",
      "Epoch 16/25\n",
      "538/538 [==============================] - 8s 14ms/step - loss: 0.0517 - acc: 0.9827 - val_loss: 2.3370 - val_acc: 0.6389\n",
      "Epoch 17/25\n",
      "538/538 [==============================] - 7s 14ms/step - loss: 0.0234 - acc: 0.9905 - val_loss: 2.3996 - val_acc: 0.6500\n",
      "Epoch 18/25\n",
      "538/538 [==============================] - 8s 14ms/step - loss: 0.0384 - acc: 0.9868 - val_loss: 2.1987 - val_acc: 0.6889\n",
      "Epoch 19/25\n",
      "538/538 [==============================] - 8s 15ms/step - loss: 0.0342 - acc: 0.9884 - val_loss: 2.4716 - val_acc: 0.6611\n",
      "Epoch 20/25\n",
      "538/538 [==============================] - 8s 15ms/step - loss: 0.0275 - acc: 0.9893 - val_loss: 2.5849 - val_acc: 0.6611\n",
      "Epoch 21/25\n",
      "538/538 [==============================] - 8s 16ms/step - loss: 0.0379 - acc: 0.9865 - val_loss: 2.2673 - val_acc: 0.6611\n",
      "Epoch 22/25\n",
      "538/538 [==============================] - 7s 14ms/step - loss: 0.0384 - acc: 0.9868 - val_loss: 2.5569 - val_acc: 0.6833\n",
      "Epoch 23/25\n",
      "538/538 [==============================] - 7s 14ms/step - loss: 0.0242 - acc: 0.9911 - val_loss: 2.6285 - val_acc: 0.6333\n",
      "Epoch 24/25\n",
      "538/538 [==============================] - 7s 14ms/step - loss: 0.0177 - acc: 0.9928 - val_loss: 2.4915 - val_acc: 0.6556\n",
      "Epoch 25/25\n",
      "538/538 [==============================] - 8s 14ms/step - loss: 0.0188 - acc: 0.9925 - val_loss: 2.2620 - val_acc: 0.6778\n"
     ]
    }
   ],
   "source": [
    "#train model\n",
    "lnet_2 = model.fit_generator(aug_gen.flow(X_train, y_train, batch_size=BS),\n",
    "                   validation_data=(X_test, y_test), steps_per_epoch=len(X_train // BS),\n",
    "                   epochs=EPOCHS, verbose=1)"
   ]
  },
  {
   "cell_type": "code",
   "execution_count": 110,
   "metadata": {},
   "outputs": [],
   "source": [
    "#Save model\n",
    "model.save('model_lenet_1.h5')"
   ]
  },
  {
   "cell_type": "code",
   "execution_count": 40,
   "metadata": {},
   "outputs": [],
   "source": [
    "#Load model\n",
    "#model = load_model('poison_plant_model.h5')"
   ]
  },
  {
   "cell_type": "markdown",
   "metadata": {},
   "source": [
    "## Evaluate Models"
   ]
  },
  {
   "cell_type": "code",
   "execution_count": 111,
   "metadata": {},
   "outputs": [
    {
     "data": {
      "image/png": "[encoded data removed]",
      "text/plain": [
       "<Figure size 432x288 with 1 Axes>"
      ]
     },
     "metadata": {},
     "output_type": "display_data"
    }
   ],
   "source": [
    "plt.style.use('ggplot')\n",
    "plt.figure()\n",
    "n = EPOCHS\n",
    "plt.plot(np.arange(0,n), lnet.history['loss'], label='Train_loss')\n",
    "plt.plot(np.arange(0,n), lnet.history['val_loss'], label='Val_loss')\n",
    "plt.plot(np.arange(0,n), lnet.history['acc'], label='Train_acc')\n",
    "plt.plot(np.arange(0,n), lnet.history['val_acc'], label='Val_acc')\n",
    "plt.title('Training Loss and Accuracy LeNet1')\n",
    "plt.xlabel('Epoch')\n",
    "plt.ylabel('Loss/Acc')\n",
    "plt.legend(loc='upper left')\n",
    "plt.savefig('plots\\\\lnet_1acc.png')"
   ]
  },
  {
   "cell_type": "markdown",
   "metadata": {},
   "source": [
    "Validation Loss keeps increasing.  The model is over fitting.  Maybe need to add drop out layer? get better pictures, more pics of sumac."
   ]
  },
  {
   "cell_type": "code",
   "execution_count": 105,
   "metadata": {},
   "outputs": [
    {
     "data": {
      "image/png": "[encoded data removed]",
      "text/plain": [
       "<Figure size 432x288 with 1 Axes>"
      ]
     },
     "metadata": {},
     "output_type": "display_data"
    }
   ],
   "source": [
    "plt.style.use('ggplot')\n",
    "plt.figure()\n",
    "n = EPOCHS\n",
    "plt.plot(np.arange(0,n), lnet_1.history['loss'], label='Train_loss')\n",
    "plt.plot(np.arange(0,n), lnet_1.history['val_loss'], label='Val_loss')\n",
    "plt.plot(np.arange(0,n), lnet_1.history['acc'], label='Train_acc')\n",
    "plt.plot(np.arange(0,n), lnet_1.history['val_acc'], label='Val_acc')\n",
    "plt.title('Training Loss and Accuracy LeNet2')\n",
    "plt.xlabel('Epoch')\n",
    "plt.ylabel('Loss/Acc')\n",
    "plt.legend(loc='lower left')\n",
    "plt.savefig('plots\\\\lnet_2acc.png')"
   ]
  },
  {
   "cell_type": "code",
   "execution_count": null,
   "metadata": {},
   "outputs": [],
   "source": []
  },
  {
   "cell_type": "code",
   "execution_count": null,
   "metadata": {},
   "outputs": [],
   "source": []
  },
  {
   "cell_type": "code",
   "execution_count": null,
   "metadata": {},
   "outputs": [],
   "source": []
  }
 ],
 "metadata": {
  "kernelspec": {
   "display_name": "Python 3",
   "language": "python",
   "name": "python3"
  },
  "language_info": {
   "codemirror_mode": {
    "name": "ipython",
    "version": 3
   },
   "file_extension": ".py",
   "mimetype": "text/x-python",
   "name": "python",
   "nbconvert_exporter": "python",
   "pygments_lexer": "ipython3",
   "version": "3.7.1"
  }
 },
 "nbformat": 4,
 "nbformat_minor": 2
}
