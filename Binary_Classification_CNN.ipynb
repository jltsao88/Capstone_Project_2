{
 "cells": [
  {
   "cell_type": "markdown",
   "metadata": {},
   "source": [
    "# Binary Classification using CNNs"
   ]
  },
  {
   "cell_type": "code",
   "execution_count": 1,
   "metadata": {},
   "outputs": [
    {
     "name": "stderr",
     "output_type": "stream",
     "text": [
      "Using TensorFlow backend.\n"
     ]
    }
   ],
   "source": [
    "import arch.CNN\n",
    "from keras.preprocessing.image import ImageDataGenerator\n",
    "from keras.optimizers import Adam\n",
    "from keras.optimizers import SGD\n",
    "from sklearn.model_selection import train_test_split\n",
    "from keras.utils import to_categorical\n",
    "from keras.models import load_model\n",
    "from keras.callbacks import ModelCheckpoint\n",
    "from keras.preprocessing.image import img_to_array\n",
    "import cv2\n",
    "import numpy as np\n",
    "import imutils"
   ]
  },
  {
   "cell_type": "markdown",
   "metadata": {},
   "source": [
    "### Load and preprocess images for 'Not' poison ivy classifier"
   ]
  },
  {
   "cell_type": "code",
   "execution_count": 2,
   "metadata": {},
   "outputs": [],
   "source": [
    "data_alexnet, labels_alexnet = arch.CNN.bi_pre_process(227, 227, 'C:\\\\Users\\\\jltsa\\\\Desktop\\\\Project_2\\\\binary_poison_ivy', 'poison_ivy')"
   ]
  },
  {
   "cell_type": "markdown",
   "metadata": {},
   "source": [
    "### Split into test and training sets"
   ]
  },
  {
   "cell_type": "code",
   "execution_count": 3,
   "metadata": {},
   "outputs": [],
   "source": [
    "#Split data into training and test sets\n",
    "X_train, X_test, y_train, y_test = train_test_split(data_alexnet, labels_alexnet, test_size=0.25, random_state=42)"
   ]
  },
  {
   "cell_type": "code",
   "execution_count": 4,
   "metadata": {},
   "outputs": [],
   "source": [
    "#One hot encoding\n",
    "y_train = to_categorical(y_train)\n",
    "y_test = to_categorical(y_test)"
   ]
  },
  {
   "cell_type": "markdown",
   "metadata": {},
   "source": [
    "### Increase samples through augmentation"
   ]
  },
  {
   "cell_type": "code",
   "execution_count": 5,
   "metadata": {},
   "outputs": [],
   "source": [
    "#To increase the amount of training data, build an image generator using data augmentation\n",
    "aug_gen = ImageDataGenerator(rotation_range=30, width_shift_range=0.1,\n",
    "                            height_shift_range=0.1, shear_range=0.2,\n",
    "                            zoom_range=0.2, horizontal_flip=True, fill_mode='nearest')"
   ]
  },
  {
   "cell_type": "markdown",
   "metadata": {},
   "source": [
    "### Train Model"
   ]
  },
  {
   "cell_type": "code",
   "execution_count": 6,
   "metadata": {},
   "outputs": [],
   "source": [
    "#Initialize global training variables\n",
    "\n",
    "EPOCHS = 25\n",
    "#Learning rate\n",
    "LR = 1e-3\n",
    "#Batch Size\n",
    "BS = 15"
   ]
  },
  {
   "cell_type": "code",
   "execution_count": 7,
   "metadata": {},
   "outputs": [
    {
     "name": "stdout",
     "output_type": "stream",
     "text": [
      "WARNING:tensorflow:From C:\\Users\\jltsa\\Anaconda3\\lib\\site-packages\\tensorflow\\python\\framework\\op_def_library.py:263: colocate_with (from tensorflow.python.framework.ops) is deprecated and will be removed in a future version.\n",
      "Instructions for updating:\n",
      "Colocations handled automatically by placer.\n",
      "WARNING:tensorflow:From C:\\Users\\jltsa\\Anaconda3\\lib\\site-packages\\keras\\backend\\tensorflow_backend.py:3445: calling dropout (from tensorflow.python.ops.nn_ops) with keep_prob is deprecated and will be removed in a future version.\n",
      "Instructions for updating:\n",
      "Please use `rate` instead of `keep_prob`. Rate should be set to `rate = 1 - keep_prob`.\n"
     ]
    }
   ],
   "source": [
    "#Initialize model\n",
    "model_alex = arch.CNN.AlexNet.build(width=227, height=227, depth=3, classes=2)\n",
    "opt_alex = Adam(lr=LR, decay=LR / EPOCHS)\n",
    "\n",
    "#if model has 2 classes use loss='binary_crossentropy'\n",
    "model_alex.compile(loss='binary_crossentropy', optimizer='sgd',\n",
    "             metrics=['accuracy'])"
   ]
  },
  {
   "cell_type": "code",
   "execution_count": 8,
   "metadata": {},
   "outputs": [
    {
     "name": "stdout",
     "output_type": "stream",
     "text": [
      "WARNING:tensorflow:From C:\\Users\\jltsa\\Anaconda3\\lib\\site-packages\\tensorflow\\python\\ops\\math_ops.py:3066: to_int32 (from tensorflow.python.ops.math_ops) is deprecated and will be removed in a future version.\n",
      "Instructions for updating:\n",
      "Use tf.cast instead.\n",
      "Epoch 1/25\n",
      "587/587 [==============================] - 109s 185ms/step - loss: 0.6431 - acc: 0.6127 - val_loss: 0.6471 - val_acc: 0.5918\n",
      "Epoch 2/25\n",
      "587/587 [==============================] - 106s 180ms/step - loss: 0.5775 - acc: 0.6974 - val_loss: 0.5892 - val_acc: 0.7092\n",
      "Epoch 3/25\n",
      "587/587 [==============================] - 107s 182ms/step - loss: 0.5287 - acc: 0.7267 - val_loss: 0.6193 - val_acc: 0.6990\n",
      "Epoch 4/25\n",
      "587/587 [==============================] - 104s 177ms/step - loss: 0.4528 - acc: 0.7756 - val_loss: 0.5220 - val_acc: 0.6939\n",
      "Epoch 5/25\n",
      "587/587 [==============================] - 104s 177ms/step - loss: 0.4024 - acc: 0.8044 - val_loss: 0.5103 - val_acc: 0.7602\n",
      "Epoch 6/25\n",
      "587/587 [==============================] - 91s 155ms/step - loss: 0.3573 - acc: 0.8333 - val_loss: 0.5695 - val_acc: 0.7500\n",
      "Epoch 7/25\n",
      "587/587 [==============================] - 88s 151ms/step - loss: 0.3407 - acc: 0.8406 - val_loss: 0.4747 - val_acc: 0.8010\n",
      "Epoch 8/25\n",
      "587/587 [==============================] - 88s 150ms/step - loss: 0.2969 - acc: 0.8621 - val_loss: 0.4384 - val_acc: 0.8010\n",
      "Epoch 9/25\n",
      "587/587 [==============================] - 88s 150ms/step - loss: 0.2678 - acc: 0.8822 - val_loss: 0.5411 - val_acc: 0.7551\n",
      "Epoch 10/25\n",
      "587/587 [==============================] - 88s 150ms/step - loss: 0.2395 - acc: 0.8947 - val_loss: 0.4110 - val_acc: 0.8214\n",
      "Epoch 11/25\n",
      "587/587 [==============================] - 88s 151ms/step - loss: 0.2431 - acc: 0.8988 - val_loss: 0.5863 - val_acc: 0.7500\n",
      "Epoch 12/25\n",
      "587/587 [==============================] - 88s 150ms/step - loss: 0.2267 - acc: 0.9036 - val_loss: 0.5028 - val_acc: 0.7908\n",
      "Epoch 13/25\n",
      "587/587 [==============================] - 89s 152ms/step - loss: 0.1758 - acc: 0.9275 - val_loss: 0.4429 - val_acc: 0.7959\n",
      "Epoch 14/25\n",
      "587/587 [==============================] - 89s 152ms/step - loss: 0.1682 - acc: 0.9318 - val_loss: 0.5601 - val_acc: 0.7959\n",
      "Epoch 15/25\n",
      "587/587 [==============================] - 88s 150ms/step - loss: 0.1648 - acc: 0.9335 - val_loss: 0.4385 - val_acc: 0.8265\n",
      "Epoch 16/25\n",
      "587/587 [==============================] - 88s 150ms/step - loss: 0.0995 - acc: 0.9647 - val_loss: 0.5386 - val_acc: 0.8163\n",
      "Epoch 17/25\n",
      "587/587 [==============================] - 88s 150ms/step - loss: 0.1295 - acc: 0.9556 - val_loss: 0.6078 - val_acc: 0.8316\n",
      "Epoch 18/25\n",
      "587/587 [==============================] - 88s 150ms/step - loss: 0.0673 - acc: 0.9756 - val_loss: 0.7784 - val_acc: 0.8163\n",
      "Epoch 19/25\n",
      "587/587 [==============================] - 88s 150ms/step - loss: 0.0879 - acc: 0.9685 - val_loss: 0.7305 - val_acc: 0.8163\n",
      "Epoch 20/25\n",
      "587/587 [==============================] - 88s 150ms/step - loss: 0.0513 - acc: 0.9816 - val_loss: 0.5797 - val_acc: 0.8163\n",
      "Epoch 21/25\n",
      "587/587 [==============================] - 88s 151ms/step - loss: 0.0385 - acc: 0.9872 - val_loss: 0.7457 - val_acc: 0.8214\n",
      "Epoch 22/25\n",
      "587/587 [==============================] - 88s 150ms/step - loss: 0.0267 - acc: 0.9917 - val_loss: 0.9145 - val_acc: 0.7959\n",
      "Epoch 23/25\n",
      "587/587 [==============================] - 88s 150ms/step - loss: 0.0241 - acc: 0.9920 - val_loss: 0.9315 - val_acc: 0.8061\n",
      "Epoch 24/25\n",
      "587/587 [==============================] - 88s 150ms/step - loss: 0.1034 - acc: 0.9727 - val_loss: 0.6208 - val_acc: 0.8061\n",
      "Epoch 25/25\n",
      "587/587 [==============================] - 88s 151ms/step - loss: 0.0214 - acc: 0.9933 - val_loss: 0.8572 - val_acc: 0.8112\n"
     ]
    }
   ],
   "source": [
    "alex_net = model_alex.fit_generator(aug_gen.flow(X_train, y_train, batch_size=BS),\n",
    "                   validation_data=(X_test, y_test), steps_per_epoch=len(X_train // BS),\n",
    "                   epochs=EPOCHS, verbose=1)"
   ]
  },
  {
   "cell_type": "code",
   "execution_count": 10,
   "metadata": {},
   "outputs": [],
   "source": [
    "model_alex.save('models\\\\model_alex_notpoisonivy.h5')"
   ]
  },
  {
   "cell_type": "code",
   "execution_count": 11,
   "metadata": {},
   "outputs": [
    {
     "data": {
      "image/png": "[encoded data removed]",
      "text/plain": [
       "<Figure size 432x288 with 1 Axes>"
      ]
     },
     "metadata": {},
     "output_type": "display_data"
    }
   ],
   "source": [
    "arch.CNN.plot_acc_loss(EPOCHS, alex_net, save=True, title='Alex Net - Not Poison Ivy', path='plots', save_as='not_poisonivy_alex')"
   ]
  },
  {
   "cell_type": "markdown",
   "metadata": {},
   "source": [
    "model is over fitting to the training data around th 8-10th epoch"
   ]
  },
  {
   "cell_type": "markdown",
   "metadata": {},
   "source": [
    "### Train Model and store opitmal parameters before over fitting"
   ]
  },
  {
   "cell_type": "code",
   "execution_count": 12,
   "metadata": {},
   "outputs": [],
   "source": [
    "#Initialize model\n",
    "model_alex_2 = arch.CNN.AlexNet.build(width=227, height=227, depth=3, classes=2)\n",
    "#opt_alex = Adam(lr=LR, decay=LR / EPOCHS)\n",
    "\n",
    "#if model has 2 classes use loss='binary_crossentropy'\n",
    "model_alex_2.compile(loss='binary_crossentropy', optimizer='sgd',\n",
    "             metrics=['accuracy'])"
   ]
  },
  {
   "cell_type": "code",
   "execution_count": 15,
   "metadata": {},
   "outputs": [],
   "source": [
    "#create a checkpoint to store the best weights of the model\n",
    "#to use these weights later, initialize the same model architecture that the weights were trained from\n",
    "#then call model.load_weights('best_weights_alex.h5')\n",
    "#can make predictions model.predict_classes(data)\n",
    "checkpoint = ModelCheckpoint('best_weights_alex.h5', monitor='val_loss',\n",
    "                            save_best_only=True)\n",
    "callbacks_list=[checkpoint]"
   ]
  },
  {
   "cell_type": "code",
   "execution_count": 17,
   "metadata": {
    "scrolled": false
   },
   "outputs": [
    {
     "name": "stdout",
     "output_type": "stream",
     "text": [
      "Epoch 1/15\n",
      "587/587 [==============================] - 95s 162ms/step - loss: 0.6152 - acc: 0.6462 - val_loss: 0.5843 - val_acc: 0.7245\n",
      "Epoch 2/15\n",
      "587/587 [==============================] - 91s 155ms/step - loss: 0.5470 - acc: 0.7167 - val_loss: 0.5649 - val_acc: 0.7194\n",
      "Epoch 3/15\n",
      "587/587 [==============================] - 93s 158ms/step - loss: 0.4655 - acc: 0.7604 - val_loss: 0.5576 - val_acc: 0.6684\n",
      "Epoch 4/15\n",
      "587/587 [==============================] - 99s 168ms/step - loss: 0.4038 - acc: 0.8041 - val_loss: 0.5759 - val_acc: 0.6531\n",
      "Epoch 5/15\n",
      "587/587 [==============================] - 90s 154ms/step - loss: 0.3773 - acc: 0.8242 - val_loss: 0.5195 - val_acc: 0.7857\n",
      "Epoch 6/15\n",
      "587/587 [==============================] - 90s 153ms/step - loss: 0.3366 - acc: 0.8444 - val_loss: 0.4385 - val_acc: 0.8112\n",
      "Epoch 7/15\n",
      "587/587 [==============================] - 91s 154ms/step - loss: 0.2962 - acc: 0.8664 - val_loss: 0.4603 - val_acc: 0.8112\n",
      "Epoch 8/15\n",
      "587/587 [==============================] - 89s 151ms/step - loss: 0.2671 - acc: 0.8790 - val_loss: 0.4339 - val_acc: 0.8367\n",
      "Epoch 9/15\n",
      "587/587 [==============================] - 93s 158ms/step - loss: 0.2365 - acc: 0.8992 - val_loss: 0.5523 - val_acc: 0.8163\n",
      "Epoch 10/15\n",
      "587/587 [==============================] - 92s 157ms/step - loss: 0.1993 - acc: 0.9151 - val_loss: 0.4278 - val_acc: 0.8061\n",
      "Epoch 11/15\n",
      "587/587 [==============================] - 100s 170ms/step - loss: 0.2209 - acc: 0.9098 - val_loss: 0.4201 - val_acc: 0.8010\n",
      "Epoch 12/15\n",
      "587/587 [==============================] - 97s 165ms/step - loss: 0.2234 - acc: 0.9093 - val_loss: 0.4539 - val_acc: 0.8265\n",
      "Epoch 13/15\n",
      "587/587 [==============================] - 91s 155ms/step - loss: 0.1289 - acc: 0.9484 - val_loss: 0.4372 - val_acc: 0.8571\n",
      "Epoch 14/15\n",
      "587/587 [==============================] - 91s 155ms/step - loss: 0.1171 - acc: 0.9541 - val_loss: 0.3952 - val_acc: 0.8469\n",
      "Epoch 15/15\n",
      "587/587 [==============================] - 91s 156ms/step - loss: 0.0860 - acc: 0.9690 - val_loss: 0.5003 - val_acc: 0.8214\n"
     ]
    }
   ],
   "source": [
    "alex_net_2 = model_alex_2.fit_generator(aug_gen.flow(X_train, y_train, batch_size=BS),\n",
    "                   validation_data=(X_test, y_test), steps_per_epoch=len(X_train // BS),\n",
    "                   epochs=15, callbacks=callbacks_list, verbose=1)"
   ]
  },
  {
   "cell_type": "code",
   "execution_count": 18,
   "metadata": {
    "scrolled": true
   },
   "outputs": [
    {
     "data": {
      "image/png": "[encoded data removed]",
      "text/plain": [
       "<Figure size 432x288 with 1 Axes>"
      ]
     },
     "metadata": {},
     "output_type": "display_data"
    }
   ],
   "source": [
    "arch.CNN.plot_acc_loss(15, alex_net_2, save=True, title='Alex Net 2 - Not Poison Ivy', path='plots', save_as='not_poisonivy_alex')"
   ]
  },
  {
   "cell_type": "code",
   "execution_count": 19,
   "metadata": {},
   "outputs": [],
   "source": [
    "model_alex_2.save('models\\\\model_alex_2_notpoisonivy.h5')"
   ]
  },
  {
   "cell_type": "markdown",
   "metadata": {},
   "source": [
    "## Making predictions"
   ]
  },
  {
   "cell_type": "markdown",
   "metadata": {},
   "source": [
    "The second AlexNet model, model_alex_2 looks like it trained decently.  We will make some predictions with unseen images."
   ]
  },
  {
   "cell_type": "code",
   "execution_count": 18,
   "metadata": {},
   "outputs": [],
   "source": [
    "#make sure to load models like this in the future\n",
    "#Instantiate the same model architecture and load weights"
   ]
  },
  {
   "cell_type": "code",
   "execution_count": 2,
   "metadata": {},
   "outputs": [],
   "source": [
    "model = arch.CNN.AlexNet()"
   ]
  },
  {
   "cell_type": "code",
   "execution_count": 3,
   "metadata": {},
   "outputs": [
    {
     "name": "stdout",
     "output_type": "stream",
     "text": [
      "WARNING:tensorflow:From C:\\Users\\jltsa\\Anaconda3\\lib\\site-packages\\tensorflow\\python\\framework\\op_def_library.py:263: colocate_with (from tensorflow.python.framework.ops) is deprecated and will be removed in a future version.\n",
      "Instructions for updating:\n",
      "Colocations handled automatically by placer.\n",
      "WARNING:tensorflow:From C:\\Users\\jltsa\\Anaconda3\\lib\\site-packages\\keras\\backend\\tensorflow_backend.py:3445: calling dropout (from tensorflow.python.ops.nn_ops) with keep_prob is deprecated and will be removed in a future version.\n",
      "Instructions for updating:\n",
      "Please use `rate` instead of `keep_prob`. Rate should be set to `rate = 1 - keep_prob`.\n"
     ]
    }
   ],
   "source": [
    "m = model.build(width=227, height=227, depth=3, classes=2)"
   ]
  },
  {
   "cell_type": "code",
   "execution_count": 4,
   "metadata": {},
   "outputs": [],
   "source": [
    "m.load_weights('models\\\\best_weights_alex.hdf5')"
   ]
  },
  {
   "cell_type": "markdown",
   "metadata": {},
   "source": [
    "### Load image "
   ]
  },
  {
   "cell_type": "code",
   "execution_count": 5,
   "metadata": {},
   "outputs": [],
   "source": [
    "#image paths\n",
    "ivy1 = 'C:\\\\Users\\\\jltsa\\\\Desktop\\\\Project_2\\\\test_images\\\\poison_ivy\\\\ivy1.jpg'"
   ]
  },
  {
   "cell_type": "code",
   "execution_count": 33,
   "metadata": {},
   "outputs": [],
   "source": [
    "#Load image and make a copy for later use\n",
    "def make_prediction(path, model):\n",
    "    image = cv2.imread(path,cv2.IMREAD_COLOR)\n",
    "    orig_im = image.copy()\n",
    "    #pre-process image\n",
    "    image = cv2.resize(image, (227,227))\n",
    "    image = image.astype('float') / 255.0\n",
    "    image = img_to_array(image)\n",
    "    #get image dimensions right to feed into model\n",
    "    image = np.expand_dims(image, axis=0)\n",
    "    \n",
    "    #get prediction\n",
    "    poison_ivy, not_poison_ivy = model.predict(image)[0]\n",
    "    \n",
    "    #make label\n",
    "    label = \"Poison Ivy\" if poison_ivy > not_poison_ivy else \"Not Poison Ivy\"\n",
    "    proba = poison_ivy if poison_ivy > not_poison_ivy else not_poison_ivy\n",
    "    label = \"{}: {:.2f}%\".format(label, proba*100)\n",
    "    \n",
    "    output = imutils.resize(orig_im, width=400)\n",
    "    cv2.putText(output, label, (10, 25), cv2.FONT_HERSHEY_SIMPLEX,\n",
    "               0.7, (0, 0, 255), 2)\n",
    "    \n",
    "    cv2.imshow('Output', output)\n",
    "    cv2.waitKey(0)\n",
    "    "
   ]
  },
  {
   "cell_type": "code",
   "execution_count": 34,
   "metadata": {},
   "outputs": [],
   "source": [
    "make_prediction(ivy1, m)\n"
   ]
  },
  {
   "cell_type": "code",
   "execution_count": null,
   "metadata": {},
   "outputs": [],
   "source": []
  }
 ],
 "metadata": {
  "kernelspec": {
   "display_name": "Python 3",
   "language": "python",
   "name": "python3"
  },
  "language_info": {
   "codemirror_mode": {
    "name": "ipython",
    "version": 3
   },
   "file_extension": ".py",
   "mimetype": "text/x-python",
   "name": "python",
   "nbconvert_exporter": "python",
   "pygments_lexer": "ipython3",
   "version": "3.7.1"
  }
 },
 "nbformat": 4,
 "nbformat_minor": 2
}
